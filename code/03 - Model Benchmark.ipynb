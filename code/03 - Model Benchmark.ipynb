{
 "cells": [
  {
   "cell_type": "code",
   "execution_count": 28,
   "id": "232ef4a1",
   "metadata": {},
   "outputs": [],
   "source": [
    "import pandas as pd\n",
    "import numpy as np\n",
    "\n",
    "from sklearn.linear_model import LinearRegression\n",
    "from sklearn import metrics\n",
    "from sklearn.model_selection import train_test_split, cross_val_score"
   ]
  },
  {
   "cell_type": "code",
   "execution_count": 29,
   "id": "9f4a0868",
   "metadata": {},
   "outputs": [],
   "source": [
    "train = pd.read_csv('../datasets/Selected_train_data.csv')\n",
    "test = pd.read_csv('../datasets/Selected_test_data1.csv')"
   ]
  },
  {
   "cell_type": "code",
   "execution_count": 39,
   "id": "fc9320ae",
   "metadata": {},
   "outputs": [
    {
     "data": {
      "text/html": [
       "<div>\n",
       "<style scoped>\n",
       "    .dataframe tbody tr th:only-of-type {\n",
       "        vertical-align: middle;\n",
       "    }\n",
       "\n",
       "    .dataframe tbody tr th {\n",
       "        vertical-align: top;\n",
       "    }\n",
       "\n",
       "    .dataframe thead th {\n",
       "        text-align: right;\n",
       "    }\n",
       "</style>\n",
       "<table border=\"1\" class=\"dataframe\">\n",
       "  <thead>\n",
       "    <tr style=\"text-align: right;\">\n",
       "      <th></th>\n",
       "      <th>Id</th>\n",
       "      <th>Overall Qual</th>\n",
       "      <th>Year Built</th>\n",
       "      <th>Full Bath</th>\n",
       "      <th>Half Bath</th>\n",
       "      <th>Garage Area</th>\n",
       "      <th>Total Bsmt SF</th>\n",
       "      <th>Gr Liv Area</th>\n",
       "      <th>1st Flr SF</th>\n",
       "      <th>2nd Flr SF</th>\n",
       "      <th>SalePrice</th>\n",
       "    </tr>\n",
       "  </thead>\n",
       "  <tbody>\n",
       "    <tr>\n",
       "      <th>0</th>\n",
       "      <td>109</td>\n",
       "      <td>6</td>\n",
       "      <td>1976</td>\n",
       "      <td>2</td>\n",
       "      <td>1</td>\n",
       "      <td>475.0</td>\n",
       "      <td>725.0</td>\n",
       "      <td>1479</td>\n",
       "      <td>725</td>\n",
       "      <td>754</td>\n",
       "      <td>130500</td>\n",
       "    </tr>\n",
       "    <tr>\n",
       "      <th>1</th>\n",
       "      <td>544</td>\n",
       "      <td>7</td>\n",
       "      <td>1996</td>\n",
       "      <td>2</td>\n",
       "      <td>1</td>\n",
       "      <td>559.0</td>\n",
       "      <td>913.0</td>\n",
       "      <td>2122</td>\n",
       "      <td>913</td>\n",
       "      <td>1209</td>\n",
       "      <td>220000</td>\n",
       "    </tr>\n",
       "    <tr>\n",
       "      <th>2</th>\n",
       "      <td>153</td>\n",
       "      <td>5</td>\n",
       "      <td>1953</td>\n",
       "      <td>1</td>\n",
       "      <td>0</td>\n",
       "      <td>246.0</td>\n",
       "      <td>1057.0</td>\n",
       "      <td>1057</td>\n",
       "      <td>1057</td>\n",
       "      <td>0</td>\n",
       "      <td>109000</td>\n",
       "    </tr>\n",
       "    <tr>\n",
       "      <th>3</th>\n",
       "      <td>318</td>\n",
       "      <td>5</td>\n",
       "      <td>2006</td>\n",
       "      <td>2</td>\n",
       "      <td>1</td>\n",
       "      <td>400.0</td>\n",
       "      <td>384.0</td>\n",
       "      <td>1444</td>\n",
       "      <td>744</td>\n",
       "      <td>700</td>\n",
       "      <td>174000</td>\n",
       "    </tr>\n",
       "    <tr>\n",
       "      <th>4</th>\n",
       "      <td>255</td>\n",
       "      <td>6</td>\n",
       "      <td>1900</td>\n",
       "      <td>2</td>\n",
       "      <td>0</td>\n",
       "      <td>484.0</td>\n",
       "      <td>676.0</td>\n",
       "      <td>1445</td>\n",
       "      <td>831</td>\n",
       "      <td>614</td>\n",
       "      <td>138500</td>\n",
       "    </tr>\n",
       "    <tr>\n",
       "      <th>...</th>\n",
       "      <td>...</td>\n",
       "      <td>...</td>\n",
       "      <td>...</td>\n",
       "      <td>...</td>\n",
       "      <td>...</td>\n",
       "      <td>...</td>\n",
       "      <td>...</td>\n",
       "      <td>...</td>\n",
       "      <td>...</td>\n",
       "      <td>...</td>\n",
       "      <td>...</td>\n",
       "    </tr>\n",
       "    <tr>\n",
       "      <th>2046</th>\n",
       "      <td>1587</td>\n",
       "      <td>8</td>\n",
       "      <td>2007</td>\n",
       "      <td>2</td>\n",
       "      <td>0</td>\n",
       "      <td>520.0</td>\n",
       "      <td>1884.0</td>\n",
       "      <td>1728</td>\n",
       "      <td>1728</td>\n",
       "      <td>0</td>\n",
       "      <td>298751</td>\n",
       "    </tr>\n",
       "    <tr>\n",
       "      <th>2047</th>\n",
       "      <td>785</td>\n",
       "      <td>4</td>\n",
       "      <td>1940</td>\n",
       "      <td>1</td>\n",
       "      <td>0</td>\n",
       "      <td>539.0</td>\n",
       "      <td>861.0</td>\n",
       "      <td>861</td>\n",
       "      <td>861</td>\n",
       "      <td>0</td>\n",
       "      <td>82500</td>\n",
       "    </tr>\n",
       "    <tr>\n",
       "      <th>2048</th>\n",
       "      <td>916</td>\n",
       "      <td>6</td>\n",
       "      <td>1928</td>\n",
       "      <td>1</td>\n",
       "      <td>1</td>\n",
       "      <td>342.0</td>\n",
       "      <td>896.0</td>\n",
       "      <td>1913</td>\n",
       "      <td>1172</td>\n",
       "      <td>741</td>\n",
       "      <td>177000</td>\n",
       "    </tr>\n",
       "    <tr>\n",
       "      <th>2049</th>\n",
       "      <td>639</td>\n",
       "      <td>4</td>\n",
       "      <td>1956</td>\n",
       "      <td>1</td>\n",
       "      <td>0</td>\n",
       "      <td>294.0</td>\n",
       "      <td>1200.0</td>\n",
       "      <td>1200</td>\n",
       "      <td>1200</td>\n",
       "      <td>0</td>\n",
       "      <td>144000</td>\n",
       "    </tr>\n",
       "    <tr>\n",
       "      <th>2050</th>\n",
       "      <td>10</td>\n",
       "      <td>7</td>\n",
       "      <td>1999</td>\n",
       "      <td>2</td>\n",
       "      <td>1</td>\n",
       "      <td>442.0</td>\n",
       "      <td>994.0</td>\n",
       "      <td>1804</td>\n",
       "      <td>1028</td>\n",
       "      <td>776</td>\n",
       "      <td>189000</td>\n",
       "    </tr>\n",
       "  </tbody>\n",
       "</table>\n",
       "<p>2051 rows × 11 columns</p>\n",
       "</div>"
      ],
      "text/plain": [
       "        Id  Overall Qual  Year Built  Full Bath  Half Bath  Garage Area  \\\n",
       "0      109             6        1976          2          1        475.0   \n",
       "1      544             7        1996          2          1        559.0   \n",
       "2      153             5        1953          1          0        246.0   \n",
       "3      318             5        2006          2          1        400.0   \n",
       "4      255             6        1900          2          0        484.0   \n",
       "...    ...           ...         ...        ...        ...          ...   \n",
       "2046  1587             8        2007          2          0        520.0   \n",
       "2047   785             4        1940          1          0        539.0   \n",
       "2048   916             6        1928          1          1        342.0   \n",
       "2049   639             4        1956          1          0        294.0   \n",
       "2050    10             7        1999          2          1        442.0   \n",
       "\n",
       "      Total Bsmt SF  Gr Liv Area  1st Flr SF  2nd Flr SF  SalePrice  \n",
       "0             725.0         1479         725         754     130500  \n",
       "1             913.0         2122         913        1209     220000  \n",
       "2            1057.0         1057        1057           0     109000  \n",
       "3             384.0         1444         744         700     174000  \n",
       "4             676.0         1445         831         614     138500  \n",
       "...             ...          ...         ...         ...        ...  \n",
       "2046         1884.0         1728        1728           0     298751  \n",
       "2047          861.0          861         861           0      82500  \n",
       "2048          896.0         1913        1172         741     177000  \n",
       "2049         1200.0         1200        1200           0     144000  \n",
       "2050          994.0         1804        1028         776     189000  \n",
       "\n",
       "[2051 rows x 11 columns]"
      ]
     },
     "execution_count": 39,
     "metadata": {},
     "output_type": "execute_result"
    }
   ],
   "source": [
    "train"
   ]
  },
  {
   "cell_type": "code",
   "execution_count": 30,
   "id": "9cedf1c9",
   "metadata": {},
   "outputs": [],
   "source": [
    "X = train.drop(columns=['SalePrice'])\n",
    "y = train['SalePrice']"
   ]
  },
  {
   "cell_type": "code",
   "execution_count": 53,
   "id": "9fb6da00",
   "metadata": {},
   "outputs": [],
   "source": [
    "X_train, X_val, y_train, y_val = train_test_split(X, y, random_state=42)"
   ]
  },
  {
   "cell_type": "code",
   "execution_count": 32,
   "id": "15132d2c",
   "metadata": {},
   "outputs": [],
   "source": [
    "lr = LinearRegression()"
   ]
  },
  {
   "cell_type": "code",
   "execution_count": 33,
   "id": "0350cdb4",
   "metadata": {},
   "outputs": [
    {
     "data": {
      "text/html": [
       "<style>#sk-container-id-3 {color: black;}#sk-container-id-3 pre{padding: 0;}#sk-container-id-3 div.sk-toggleable {background-color: white;}#sk-container-id-3 label.sk-toggleable__label {cursor: pointer;display: block;width: 100%;margin-bottom: 0;padding: 0.3em;box-sizing: border-box;text-align: center;}#sk-container-id-3 label.sk-toggleable__label-arrow:before {content: \"▸\";float: left;margin-right: 0.25em;color: #696969;}#sk-container-id-3 label.sk-toggleable__label-arrow:hover:before {color: black;}#sk-container-id-3 div.sk-estimator:hover label.sk-toggleable__label-arrow:before {color: black;}#sk-container-id-3 div.sk-toggleable__content {max-height: 0;max-width: 0;overflow: hidden;text-align: left;background-color: #f0f8ff;}#sk-container-id-3 div.sk-toggleable__content pre {margin: 0.2em;color: black;border-radius: 0.25em;background-color: #f0f8ff;}#sk-container-id-3 input.sk-toggleable__control:checked~div.sk-toggleable__content {max-height: 200px;max-width: 100%;overflow: auto;}#sk-container-id-3 input.sk-toggleable__control:checked~label.sk-toggleable__label-arrow:before {content: \"▾\";}#sk-container-id-3 div.sk-estimator input.sk-toggleable__control:checked~label.sk-toggleable__label {background-color: #d4ebff;}#sk-container-id-3 div.sk-label input.sk-toggleable__control:checked~label.sk-toggleable__label {background-color: #d4ebff;}#sk-container-id-3 input.sk-hidden--visually {border: 0;clip: rect(1px 1px 1px 1px);clip: rect(1px, 1px, 1px, 1px);height: 1px;margin: -1px;overflow: hidden;padding: 0;position: absolute;width: 1px;}#sk-container-id-3 div.sk-estimator {font-family: monospace;background-color: #f0f8ff;border: 1px dotted black;border-radius: 0.25em;box-sizing: border-box;margin-bottom: 0.5em;}#sk-container-id-3 div.sk-estimator:hover {background-color: #d4ebff;}#sk-container-id-3 div.sk-parallel-item::after {content: \"\";width: 100%;border-bottom: 1px solid gray;flex-grow: 1;}#sk-container-id-3 div.sk-label:hover label.sk-toggleable__label {background-color: #d4ebff;}#sk-container-id-3 div.sk-serial::before {content: \"\";position: absolute;border-left: 1px solid gray;box-sizing: border-box;top: 0;bottom: 0;left: 50%;z-index: 0;}#sk-container-id-3 div.sk-serial {display: flex;flex-direction: column;align-items: center;background-color: white;padding-right: 0.2em;padding-left: 0.2em;position: relative;}#sk-container-id-3 div.sk-item {position: relative;z-index: 1;}#sk-container-id-3 div.sk-parallel {display: flex;align-items: stretch;justify-content: center;background-color: white;position: relative;}#sk-container-id-3 div.sk-item::before, #sk-container-id-3 div.sk-parallel-item::before {content: \"\";position: absolute;border-left: 1px solid gray;box-sizing: border-box;top: 0;bottom: 0;left: 50%;z-index: -1;}#sk-container-id-3 div.sk-parallel-item {display: flex;flex-direction: column;z-index: 1;position: relative;background-color: white;}#sk-container-id-3 div.sk-parallel-item:first-child::after {align-self: flex-end;width: 50%;}#sk-container-id-3 div.sk-parallel-item:last-child::after {align-self: flex-start;width: 50%;}#sk-container-id-3 div.sk-parallel-item:only-child::after {width: 0;}#sk-container-id-3 div.sk-dashed-wrapped {border: 1px dashed gray;margin: 0 0.4em 0.5em 0.4em;box-sizing: border-box;padding-bottom: 0.4em;background-color: white;}#sk-container-id-3 div.sk-label label {font-family: monospace;font-weight: bold;display: inline-block;line-height: 1.2em;}#sk-container-id-3 div.sk-label-container {text-align: center;}#sk-container-id-3 div.sk-container {/* jupyter's `normalize.less` sets `[hidden] { display: none; }` but bootstrap.min.css set `[hidden] { display: none !important; }` so we also need the `!important` here to be able to override the default hidden behavior on the sphinx rendered scikit-learn.org. See: https://github.com/scikit-learn/scikit-learn/issues/21755 */display: inline-block !important;position: relative;}#sk-container-id-3 div.sk-text-repr-fallback {display: none;}</style><div id=\"sk-container-id-3\" class=\"sk-top-container\"><div class=\"sk-text-repr-fallback\"><pre>LinearRegression()</pre><b>In a Jupyter environment, please rerun this cell to show the HTML representation or trust the notebook. <br />On GitHub, the HTML representation is unable to render, please try loading this page with nbviewer.org.</b></div><div class=\"sk-container\" hidden><div class=\"sk-item\"><div class=\"sk-estimator sk-toggleable\"><input class=\"sk-toggleable__control sk-hidden--visually\" id=\"sk-estimator-id-3\" type=\"checkbox\" checked><label for=\"sk-estimator-id-3\" class=\"sk-toggleable__label sk-toggleable__label-arrow\">LinearRegression</label><div class=\"sk-toggleable__content\"><pre>LinearRegression()</pre></div></div></div></div></div>"
      ],
      "text/plain": [
       "LinearRegression()"
      ]
     },
     "execution_count": 33,
     "metadata": {},
     "output_type": "execute_result"
    }
   ],
   "source": [
    "lr.fit(X_train, y_train)"
   ]
  },
  {
   "cell_type": "code",
   "execution_count": 34,
   "id": "aaadc396",
   "metadata": {},
   "outputs": [],
   "source": [
    "y_predict = lr.predict(X_test)"
   ]
  },
  {
   "cell_type": "code",
   "execution_count": 68,
   "id": "db1082ee",
   "metadata": {},
   "outputs": [
    {
     "data": {
      "text/plain": [
       "0.7710228632896604"
      ]
     },
     "execution_count": 68,
     "metadata": {},
     "output_type": "execute_result"
    }
   ],
   "source": [
    "r2_mod1train = lr.score(X_train, y_train)\n",
    "r2_mod1train"
   ]
  },
  {
   "cell_type": "code",
   "execution_count": 75,
   "id": "e902fc6d",
   "metadata": {},
   "outputs": [],
   "source": [
    "r2_mod1val = lr.score(X_val, y_val)"
   ]
  },
  {
   "cell_type": "code",
   "execution_count": 56,
   "id": "3452bcd4",
   "metadata": {},
   "outputs": [],
   "source": [
    "mae_mod1 = metrics.mean_absolute_error(y_test, y_predict)"
   ]
  },
  {
   "cell_type": "code",
   "execution_count": 57,
   "id": "37259be6",
   "metadata": {},
   "outputs": [],
   "source": [
    "rmse_mod1 = metrics.mean_squared_error(y_test, y_predict, squared=False)"
   ]
  },
  {
   "cell_type": "code",
   "execution_count": 40,
   "id": "3ff20dff",
   "metadata": {},
   "outputs": [
    {
     "data": {
      "text/plain": [
       "(878,)"
      ]
     },
     "execution_count": 40,
     "metadata": {},
     "output_type": "execute_result"
    }
   ],
   "source": [
    "preds = lr.predict(test.drop(columns=['FbathxHbath']))\n",
    "preds.shape"
   ]
  },
  {
   "cell_type": "code",
   "execution_count": 41,
   "id": "10e6f648",
   "metadata": {},
   "outputs": [],
   "source": [
    "test['SalePrice'] = preds"
   ]
  },
  {
   "cell_type": "code",
   "execution_count": 42,
   "id": "df103be8",
   "metadata": {},
   "outputs": [],
   "source": [
    "#test['0'].astype(int)\n",
    "#test.rename(columns={'0':'Id'}, inplace=True)\n",
    "lr_submission = test[['Id', 'SalePrice']].set_index('Id')"
   ]
  },
  {
   "cell_type": "code",
   "execution_count": 43,
   "id": "96061d2c",
   "metadata": {},
   "outputs": [],
   "source": [
    "lr_submission['SalePrice'] = lr_submission['SalePrice'].abs()\n"
   ]
  },
  {
   "cell_type": "code",
   "execution_count": 44,
   "id": "53c40efe",
   "metadata": {},
   "outputs": [
    {
     "data": {
      "text/html": [
       "<div>\n",
       "<style scoped>\n",
       "    .dataframe tbody tr th:only-of-type {\n",
       "        vertical-align: middle;\n",
       "    }\n",
       "\n",
       "    .dataframe tbody tr th {\n",
       "        vertical-align: top;\n",
       "    }\n",
       "\n",
       "    .dataframe thead th {\n",
       "        text-align: right;\n",
       "    }\n",
       "</style>\n",
       "<table border=\"1\" class=\"dataframe\">\n",
       "  <thead>\n",
       "    <tr style=\"text-align: right;\">\n",
       "      <th></th>\n",
       "      <th>SalePrice</th>\n",
       "    </tr>\n",
       "    <tr>\n",
       "      <th>Id</th>\n",
       "      <th></th>\n",
       "    </tr>\n",
       "  </thead>\n",
       "  <tbody>\n",
       "    <tr>\n",
       "      <th>2658</th>\n",
       "      <td>168896.466169</td>\n",
       "    </tr>\n",
       "    <tr>\n",
       "      <th>2718</th>\n",
       "      <td>207595.415056</td>\n",
       "    </tr>\n",
       "    <tr>\n",
       "      <th>2414</th>\n",
       "      <td>196377.360339</td>\n",
       "    </tr>\n",
       "    <tr>\n",
       "      <th>1989</th>\n",
       "      <td>111529.201270</td>\n",
       "    </tr>\n",
       "    <tr>\n",
       "      <th>625</th>\n",
       "      <td>183677.354017</td>\n",
       "    </tr>\n",
       "    <tr>\n",
       "      <th>...</th>\n",
       "      <td>...</td>\n",
       "    </tr>\n",
       "    <tr>\n",
       "      <th>1662</th>\n",
       "      <td>196179.037421</td>\n",
       "    </tr>\n",
       "    <tr>\n",
       "      <th>1234</th>\n",
       "      <td>199060.240590</td>\n",
       "    </tr>\n",
       "    <tr>\n",
       "      <th>1373</th>\n",
       "      <td>135338.843026</td>\n",
       "    </tr>\n",
       "    <tr>\n",
       "      <th>1672</th>\n",
       "      <td>100911.901569</td>\n",
       "    </tr>\n",
       "    <tr>\n",
       "      <th>1939</th>\n",
       "      <td>115538.691326</td>\n",
       "    </tr>\n",
       "  </tbody>\n",
       "</table>\n",
       "<p>878 rows × 1 columns</p>\n",
       "</div>"
      ],
      "text/plain": [
       "          SalePrice\n",
       "Id                 \n",
       "2658  168896.466169\n",
       "2718  207595.415056\n",
       "2414  196377.360339\n",
       "1989  111529.201270\n",
       "625   183677.354017\n",
       "...             ...\n",
       "1662  196179.037421\n",
       "1234  199060.240590\n",
       "1373  135338.843026\n",
       "1672  100911.901569\n",
       "1939  115538.691326\n",
       "\n",
       "[878 rows x 1 columns]"
      ]
     },
     "execution_count": 44,
     "metadata": {},
     "output_type": "execute_result"
    }
   ],
   "source": [
    "lr_submission"
   ]
  },
  {
   "cell_type": "code",
   "execution_count": 45,
   "id": "863e8947",
   "metadata": {},
   "outputs": [],
   "source": [
    "lr_submission.to_csv('../datasets/baseline.csv')"
   ]
  },
  {
   "cell_type": "markdown",
   "id": "e939ce73",
   "metadata": {},
   "source": [
    "### Adding baseline metrics to table"
   ]
  },
  {
   "cell_type": "code",
   "execution_count": 73,
   "id": "baa6b5a5",
   "metadata": {},
   "outputs": [],
   "source": [
    "modelmetrics = pd.read_csv('../datasets/Metrics_for_Models')"
   ]
  },
  {
   "cell_type": "code",
   "execution_count": 77,
   "id": "0f59b861",
   "metadata": {},
   "outputs": [],
   "source": [
    "modelmetrics['R2 Score(train)'].replace(0, r2_mod1train, inplace=True)\n",
    "modelmetrics['R2 Score(Val)'].replace(0, r2_mod1val, inplace=True)\n",
    "modelmetrics['MAE'].replace(0, mae_mod1, inplace=True)\n",
    "modelmetrics['RMSE'].replace(0, rmse_mod1, inplace=True)"
   ]
  },
  {
   "cell_type": "code",
   "execution_count": 78,
   "id": "ed63f8f1",
   "metadata": {},
   "outputs": [
    {
     "data": {
      "text/html": [
       "<div>\n",
       "<style scoped>\n",
       "    .dataframe tbody tr th:only-of-type {\n",
       "        vertical-align: middle;\n",
       "    }\n",
       "\n",
       "    .dataframe tbody tr th {\n",
       "        vertical-align: top;\n",
       "    }\n",
       "\n",
       "    .dataframe thead th {\n",
       "        text-align: right;\n",
       "    }\n",
       "</style>\n",
       "<table border=\"1\" class=\"dataframe\">\n",
       "  <thead>\n",
       "    <tr style=\"text-align: right;\">\n",
       "      <th></th>\n",
       "      <th>Model</th>\n",
       "      <th>R2 Score(train)</th>\n",
       "      <th>R2 Score(Val)</th>\n",
       "      <th>MAE</th>\n",
       "      <th>RMSE</th>\n",
       "      <th>Description</th>\n",
       "    </tr>\n",
       "  </thead>\n",
       "  <tbody>\n",
       "    <tr>\n",
       "      <th>0</th>\n",
       "      <td>Mode 1</td>\n",
       "      <td>0.771023</td>\n",
       "      <td>0.835513</td>\n",
       "      <td>23307.513959</td>\n",
       "      <td>31779.748064</td>\n",
       "      <td>Baseline</td>\n",
       "    </tr>\n",
       "    <tr>\n",
       "      <th>1</th>\n",
       "      <td>Model 2</td>\n",
       "      <td>0.886713</td>\n",
       "      <td>0.852980</td>\n",
       "      <td>21157.810887</td>\n",
       "      <td>31094.158241</td>\n",
       "      <td>Poly</td>\n",
       "    </tr>\n",
       "    <tr>\n",
       "      <th>2</th>\n",
       "      <td>Model 3</td>\n",
       "      <td>0.777809</td>\n",
       "      <td>0.807667</td>\n",
       "      <td>25021.056681</td>\n",
       "      <td>35564.524098</td>\n",
       "      <td>Dropped Full Bath and Half Bath</td>\n",
       "    </tr>\n",
       "    <tr>\n",
       "      <th>3</th>\n",
       "      <td>Model 4</td>\n",
       "      <td>0.780299</td>\n",
       "      <td>0.811278</td>\n",
       "      <td>24684.392809</td>\n",
       "      <td>35229.123817</td>\n",
       "      <td>StandardScaled</td>\n",
       "    </tr>\n",
       "    <tr>\n",
       "      <th>4</th>\n",
       "      <td>Model 5</td>\n",
       "      <td>0.885289</td>\n",
       "      <td>0.871826</td>\n",
       "      <td>19836.248501</td>\n",
       "      <td>28053.375859</td>\n",
       "      <td>Poly and SC</td>\n",
       "    </tr>\n",
       "    <tr>\n",
       "      <th>5</th>\n",
       "      <td>Model 6</td>\n",
       "      <td>0.880983</td>\n",
       "      <td>0.877115</td>\n",
       "      <td>19523.526618</td>\n",
       "      <td>27468.513989</td>\n",
       "      <td>RidgeCv</td>\n",
       "    </tr>\n",
       "  </tbody>\n",
       "</table>\n",
       "</div>"
      ],
      "text/plain": [
       "     Model  R2 Score(train)  R2 Score(Val)           MAE          RMSE  \\\n",
       "0   Mode 1         0.771023       0.835513  23307.513959  31779.748064   \n",
       "1  Model 2         0.886713       0.852980  21157.810887  31094.158241   \n",
       "2  Model 3         0.777809       0.807667  25021.056681  35564.524098   \n",
       "3  Model 4         0.780299       0.811278  24684.392809  35229.123817   \n",
       "4  Model 5         0.885289       0.871826  19836.248501  28053.375859   \n",
       "5  Model 6         0.880983       0.877115  19523.526618  27468.513989   \n",
       "\n",
       "                       Description  \n",
       "0                         Baseline  \n",
       "1                             Poly  \n",
       "2  Dropped Full Bath and Half Bath  \n",
       "3                   StandardScaled  \n",
       "4                      Poly and SC  \n",
       "5                          RidgeCv  "
      ]
     },
     "execution_count": 78,
     "metadata": {},
     "output_type": "execute_result"
    }
   ],
   "source": [
    "modelmetrics"
   ]
  },
  {
   "cell_type": "code",
   "execution_count": 79,
   "id": "5f4a77f9",
   "metadata": {},
   "outputs": [],
   "source": [
    "modelmetrics = pd.read_csv('../datasets/Metrics_for_Models')"
   ]
  }
 ],
 "metadata": {
  "kernelspec": {
   "display_name": "Python 3 (ipykernel)",
   "language": "python",
   "name": "python3"
  },
  "language_info": {
   "codemirror_mode": {
    "name": "ipython",
    "version": 3
   },
   "file_extension": ".py",
   "mimetype": "text/x-python",
   "name": "python",
   "nbconvert_exporter": "python",
   "pygments_lexer": "ipython3",
   "version": "3.11.4"
  }
 },
 "nbformat": 4,
 "nbformat_minor": 5
}
