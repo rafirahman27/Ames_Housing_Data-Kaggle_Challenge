{
 "cells": [
  {
   "cell_type": "code",
   "execution_count": 411,
   "id": "994798ba",
   "metadata": {},
   "outputs": [],
   "source": [
    "import pandas as pd\n",
    "import numpy as np\n",
    "\n",
    "from sklearn.linear_model import LinearRegression, LogisticRegressionCV, RidgeCV\n",
    "from sklearn import metrics\n",
    "from sklearn.model_selection import train_test_split, cross_val_score"
   ]
  },
  {
   "cell_type": "code",
   "execution_count": 412,
   "id": "7c327c22",
   "metadata": {},
   "outputs": [],
   "source": [
    "train_poly = pd.read_csv('../datasets/Transforms_Xtrain.csv')\n",
    "test_poly = pd.read_csv('../datasets/Transforms_Xtest.csv')"
   ]
  },
  {
   "cell_type": "markdown",
   "id": "a5b4b187",
   "metadata": {},
   "source": [
    "### Polynomial Features Model 2"
   ]
  },
  {
   "cell_type": "code",
   "execution_count": 413,
   "id": "b8f437ff",
   "metadata": {},
   "outputs": [
    {
     "data": {
      "text/html": [
       "<div>\n",
       "<style scoped>\n",
       "    .dataframe tbody tr th:only-of-type {\n",
       "        vertical-align: middle;\n",
       "    }\n",
       "\n",
       "    .dataframe tbody tr th {\n",
       "        vertical-align: top;\n",
       "    }\n",
       "\n",
       "    .dataframe thead th {\n",
       "        text-align: right;\n",
       "    }\n",
       "</style>\n",
       "<table border=\"1\" class=\"dataframe\">\n",
       "  <thead>\n",
       "    <tr style=\"text-align: right;\">\n",
       "      <th></th>\n",
       "      <th>0</th>\n",
       "      <th>1</th>\n",
       "      <th>2</th>\n",
       "      <th>3</th>\n",
       "      <th>4</th>\n",
       "      <th>5</th>\n",
       "      <th>6</th>\n",
       "      <th>7</th>\n",
       "      <th>8</th>\n",
       "      <th>9</th>\n",
       "      <th>...</th>\n",
       "      <th>57</th>\n",
       "      <th>58</th>\n",
       "      <th>59</th>\n",
       "      <th>60</th>\n",
       "      <th>61</th>\n",
       "      <th>62</th>\n",
       "      <th>63</th>\n",
       "      <th>64</th>\n",
       "      <th>Id</th>\n",
       "      <th>SalePrice</th>\n",
       "    </tr>\n",
       "  </thead>\n",
       "  <tbody>\n",
       "    <tr>\n",
       "      <th>0</th>\n",
       "      <td>6.0</td>\n",
       "      <td>1976.0</td>\n",
       "      <td>2.0</td>\n",
       "      <td>1.0</td>\n",
       "      <td>475.0</td>\n",
       "      <td>725.0</td>\n",
       "      <td>1479.0</td>\n",
       "      <td>725.0</td>\n",
       "      <td>754.0</td>\n",
       "      <td>2.0</td>\n",
       "      <td>...</td>\n",
       "      <td>1115166.0</td>\n",
       "      <td>2958.0</td>\n",
       "      <td>525625.0</td>\n",
       "      <td>546650.0</td>\n",
       "      <td>1450.0</td>\n",
       "      <td>568516.0</td>\n",
       "      <td>1508.0</td>\n",
       "      <td>4.0</td>\n",
       "      <td>109</td>\n",
       "      <td>130500</td>\n",
       "    </tr>\n",
       "    <tr>\n",
       "      <th>1</th>\n",
       "      <td>7.0</td>\n",
       "      <td>1996.0</td>\n",
       "      <td>2.0</td>\n",
       "      <td>1.0</td>\n",
       "      <td>559.0</td>\n",
       "      <td>913.0</td>\n",
       "      <td>2122.0</td>\n",
       "      <td>913.0</td>\n",
       "      <td>1209.0</td>\n",
       "      <td>2.0</td>\n",
       "      <td>...</td>\n",
       "      <td>2565498.0</td>\n",
       "      <td>4244.0</td>\n",
       "      <td>833569.0</td>\n",
       "      <td>1103817.0</td>\n",
       "      <td>1826.0</td>\n",
       "      <td>1461681.0</td>\n",
       "      <td>2418.0</td>\n",
       "      <td>4.0</td>\n",
       "      <td>544</td>\n",
       "      <td>220000</td>\n",
       "    </tr>\n",
       "    <tr>\n",
       "      <th>2</th>\n",
       "      <td>5.0</td>\n",
       "      <td>1953.0</td>\n",
       "      <td>1.0</td>\n",
       "      <td>0.0</td>\n",
       "      <td>246.0</td>\n",
       "      <td>1057.0</td>\n",
       "      <td>1057.0</td>\n",
       "      <td>1057.0</td>\n",
       "      <td>0.0</td>\n",
       "      <td>0.0</td>\n",
       "      <td>...</td>\n",
       "      <td>0.0</td>\n",
       "      <td>0.0</td>\n",
       "      <td>1117249.0</td>\n",
       "      <td>0.0</td>\n",
       "      <td>0.0</td>\n",
       "      <td>0.0</td>\n",
       "      <td>0.0</td>\n",
       "      <td>0.0</td>\n",
       "      <td>153</td>\n",
       "      <td>109000</td>\n",
       "    </tr>\n",
       "    <tr>\n",
       "      <th>3</th>\n",
       "      <td>5.0</td>\n",
       "      <td>2006.0</td>\n",
       "      <td>2.0</td>\n",
       "      <td>1.0</td>\n",
       "      <td>400.0</td>\n",
       "      <td>384.0</td>\n",
       "      <td>1444.0</td>\n",
       "      <td>744.0</td>\n",
       "      <td>700.0</td>\n",
       "      <td>2.0</td>\n",
       "      <td>...</td>\n",
       "      <td>1010800.0</td>\n",
       "      <td>2888.0</td>\n",
       "      <td>553536.0</td>\n",
       "      <td>520800.0</td>\n",
       "      <td>1488.0</td>\n",
       "      <td>490000.0</td>\n",
       "      <td>1400.0</td>\n",
       "      <td>4.0</td>\n",
       "      <td>318</td>\n",
       "      <td>174000</td>\n",
       "    </tr>\n",
       "    <tr>\n",
       "      <th>4</th>\n",
       "      <td>6.0</td>\n",
       "      <td>1900.0</td>\n",
       "      <td>2.0</td>\n",
       "      <td>0.0</td>\n",
       "      <td>484.0</td>\n",
       "      <td>676.0</td>\n",
       "      <td>1445.0</td>\n",
       "      <td>831.0</td>\n",
       "      <td>614.0</td>\n",
       "      <td>0.0</td>\n",
       "      <td>...</td>\n",
       "      <td>887230.0</td>\n",
       "      <td>0.0</td>\n",
       "      <td>690561.0</td>\n",
       "      <td>510234.0</td>\n",
       "      <td>0.0</td>\n",
       "      <td>376996.0</td>\n",
       "      <td>0.0</td>\n",
       "      <td>0.0</td>\n",
       "      <td>255</td>\n",
       "      <td>138500</td>\n",
       "    </tr>\n",
       "    <tr>\n",
       "      <th>...</th>\n",
       "      <td>...</td>\n",
       "      <td>...</td>\n",
       "      <td>...</td>\n",
       "      <td>...</td>\n",
       "      <td>...</td>\n",
       "      <td>...</td>\n",
       "      <td>...</td>\n",
       "      <td>...</td>\n",
       "      <td>...</td>\n",
       "      <td>...</td>\n",
       "      <td>...</td>\n",
       "      <td>...</td>\n",
       "      <td>...</td>\n",
       "      <td>...</td>\n",
       "      <td>...</td>\n",
       "      <td>...</td>\n",
       "      <td>...</td>\n",
       "      <td>...</td>\n",
       "      <td>...</td>\n",
       "      <td>...</td>\n",
       "      <td>...</td>\n",
       "    </tr>\n",
       "    <tr>\n",
       "      <th>2046</th>\n",
       "      <td>8.0</td>\n",
       "      <td>2007.0</td>\n",
       "      <td>2.0</td>\n",
       "      <td>0.0</td>\n",
       "      <td>520.0</td>\n",
       "      <td>1884.0</td>\n",
       "      <td>1728.0</td>\n",
       "      <td>1728.0</td>\n",
       "      <td>0.0</td>\n",
       "      <td>0.0</td>\n",
       "      <td>...</td>\n",
       "      <td>0.0</td>\n",
       "      <td>0.0</td>\n",
       "      <td>2985984.0</td>\n",
       "      <td>0.0</td>\n",
       "      <td>0.0</td>\n",
       "      <td>0.0</td>\n",
       "      <td>0.0</td>\n",
       "      <td>0.0</td>\n",
       "      <td>1587</td>\n",
       "      <td>298751</td>\n",
       "    </tr>\n",
       "    <tr>\n",
       "      <th>2047</th>\n",
       "      <td>4.0</td>\n",
       "      <td>1940.0</td>\n",
       "      <td>1.0</td>\n",
       "      <td>0.0</td>\n",
       "      <td>539.0</td>\n",
       "      <td>861.0</td>\n",
       "      <td>861.0</td>\n",
       "      <td>861.0</td>\n",
       "      <td>0.0</td>\n",
       "      <td>0.0</td>\n",
       "      <td>...</td>\n",
       "      <td>0.0</td>\n",
       "      <td>0.0</td>\n",
       "      <td>741321.0</td>\n",
       "      <td>0.0</td>\n",
       "      <td>0.0</td>\n",
       "      <td>0.0</td>\n",
       "      <td>0.0</td>\n",
       "      <td>0.0</td>\n",
       "      <td>785</td>\n",
       "      <td>82500</td>\n",
       "    </tr>\n",
       "    <tr>\n",
       "      <th>2048</th>\n",
       "      <td>6.0</td>\n",
       "      <td>1928.0</td>\n",
       "      <td>1.0</td>\n",
       "      <td>1.0</td>\n",
       "      <td>342.0</td>\n",
       "      <td>896.0</td>\n",
       "      <td>1913.0</td>\n",
       "      <td>1172.0</td>\n",
       "      <td>741.0</td>\n",
       "      <td>1.0</td>\n",
       "      <td>...</td>\n",
       "      <td>1417533.0</td>\n",
       "      <td>1913.0</td>\n",
       "      <td>1373584.0</td>\n",
       "      <td>868452.0</td>\n",
       "      <td>1172.0</td>\n",
       "      <td>549081.0</td>\n",
       "      <td>741.0</td>\n",
       "      <td>1.0</td>\n",
       "      <td>916</td>\n",
       "      <td>177000</td>\n",
       "    </tr>\n",
       "    <tr>\n",
       "      <th>2049</th>\n",
       "      <td>4.0</td>\n",
       "      <td>1956.0</td>\n",
       "      <td>1.0</td>\n",
       "      <td>0.0</td>\n",
       "      <td>294.0</td>\n",
       "      <td>1200.0</td>\n",
       "      <td>1200.0</td>\n",
       "      <td>1200.0</td>\n",
       "      <td>0.0</td>\n",
       "      <td>0.0</td>\n",
       "      <td>...</td>\n",
       "      <td>0.0</td>\n",
       "      <td>0.0</td>\n",
       "      <td>1440000.0</td>\n",
       "      <td>0.0</td>\n",
       "      <td>0.0</td>\n",
       "      <td>0.0</td>\n",
       "      <td>0.0</td>\n",
       "      <td>0.0</td>\n",
       "      <td>639</td>\n",
       "      <td>144000</td>\n",
       "    </tr>\n",
       "    <tr>\n",
       "      <th>2050</th>\n",
       "      <td>7.0</td>\n",
       "      <td>1999.0</td>\n",
       "      <td>2.0</td>\n",
       "      <td>1.0</td>\n",
       "      <td>442.0</td>\n",
       "      <td>994.0</td>\n",
       "      <td>1804.0</td>\n",
       "      <td>1028.0</td>\n",
       "      <td>776.0</td>\n",
       "      <td>2.0</td>\n",
       "      <td>...</td>\n",
       "      <td>1399904.0</td>\n",
       "      <td>3608.0</td>\n",
       "      <td>1056784.0</td>\n",
       "      <td>797728.0</td>\n",
       "      <td>2056.0</td>\n",
       "      <td>602176.0</td>\n",
       "      <td>1552.0</td>\n",
       "      <td>4.0</td>\n",
       "      <td>10</td>\n",
       "      <td>189000</td>\n",
       "    </tr>\n",
       "  </tbody>\n",
       "</table>\n",
       "<p>2051 rows × 67 columns</p>\n",
       "</div>"
      ],
      "text/plain": [
       "        0       1    2    3      4       5       6       7       8    9  ...  \\\n",
       "0     6.0  1976.0  2.0  1.0  475.0   725.0  1479.0   725.0   754.0  2.0  ...   \n",
       "1     7.0  1996.0  2.0  1.0  559.0   913.0  2122.0   913.0  1209.0  2.0  ...   \n",
       "2     5.0  1953.0  1.0  0.0  246.0  1057.0  1057.0  1057.0     0.0  0.0  ...   \n",
       "3     5.0  2006.0  2.0  1.0  400.0   384.0  1444.0   744.0   700.0  2.0  ...   \n",
       "4     6.0  1900.0  2.0  0.0  484.0   676.0  1445.0   831.0   614.0  0.0  ...   \n",
       "...   ...     ...  ...  ...    ...     ...     ...     ...     ...  ...  ...   \n",
       "2046  8.0  2007.0  2.0  0.0  520.0  1884.0  1728.0  1728.0     0.0  0.0  ...   \n",
       "2047  4.0  1940.0  1.0  0.0  539.0   861.0   861.0   861.0     0.0  0.0  ...   \n",
       "2048  6.0  1928.0  1.0  1.0  342.0   896.0  1913.0  1172.0   741.0  1.0  ...   \n",
       "2049  4.0  1956.0  1.0  0.0  294.0  1200.0  1200.0  1200.0     0.0  0.0  ...   \n",
       "2050  7.0  1999.0  2.0  1.0  442.0   994.0  1804.0  1028.0   776.0  2.0  ...   \n",
       "\n",
       "             57      58         59         60      61         62      63   64  \\\n",
       "0     1115166.0  2958.0   525625.0   546650.0  1450.0   568516.0  1508.0  4.0   \n",
       "1     2565498.0  4244.0   833569.0  1103817.0  1826.0  1461681.0  2418.0  4.0   \n",
       "2           0.0     0.0  1117249.0        0.0     0.0        0.0     0.0  0.0   \n",
       "3     1010800.0  2888.0   553536.0   520800.0  1488.0   490000.0  1400.0  4.0   \n",
       "4      887230.0     0.0   690561.0   510234.0     0.0   376996.0     0.0  0.0   \n",
       "...         ...     ...        ...        ...     ...        ...     ...  ...   \n",
       "2046        0.0     0.0  2985984.0        0.0     0.0        0.0     0.0  0.0   \n",
       "2047        0.0     0.0   741321.0        0.0     0.0        0.0     0.0  0.0   \n",
       "2048  1417533.0  1913.0  1373584.0   868452.0  1172.0   549081.0   741.0  1.0   \n",
       "2049        0.0     0.0  1440000.0        0.0     0.0        0.0     0.0  0.0   \n",
       "2050  1399904.0  3608.0  1056784.0   797728.0  2056.0   602176.0  1552.0  4.0   \n",
       "\n",
       "        Id  SalePrice  \n",
       "0      109     130500  \n",
       "1      544     220000  \n",
       "2      153     109000  \n",
       "3      318     174000  \n",
       "4      255     138500  \n",
       "...    ...        ...  \n",
       "2046  1587     298751  \n",
       "2047   785      82500  \n",
       "2048   916     177000  \n",
       "2049   639     144000  \n",
       "2050    10     189000  \n",
       "\n",
       "[2051 rows x 67 columns]"
      ]
     },
     "execution_count": 413,
     "metadata": {},
     "output_type": "execute_result"
    }
   ],
   "source": [
    "train_poly"
   ]
  },
  {
   "cell_type": "code",
   "execution_count": 414,
   "id": "13c7a22a",
   "metadata": {},
   "outputs": [],
   "source": [
    "X_poly = train_poly.drop(columns=['SalePrice'])\n",
    "y = train_poly['SalePrice']"
   ]
  },
  {
   "cell_type": "code",
   "execution_count": 415,
   "id": "9688c2fe",
   "metadata": {},
   "outputs": [
    {
     "data": {
      "text/html": [
       "<style>#sk-container-id-51 {color: black;}#sk-container-id-51 pre{padding: 0;}#sk-container-id-51 div.sk-toggleable {background-color: white;}#sk-container-id-51 label.sk-toggleable__label {cursor: pointer;display: block;width: 100%;margin-bottom: 0;padding: 0.3em;box-sizing: border-box;text-align: center;}#sk-container-id-51 label.sk-toggleable__label-arrow:before {content: \"▸\";float: left;margin-right: 0.25em;color: #696969;}#sk-container-id-51 label.sk-toggleable__label-arrow:hover:before {color: black;}#sk-container-id-51 div.sk-estimator:hover label.sk-toggleable__label-arrow:before {color: black;}#sk-container-id-51 div.sk-toggleable__content {max-height: 0;max-width: 0;overflow: hidden;text-align: left;background-color: #f0f8ff;}#sk-container-id-51 div.sk-toggleable__content pre {margin: 0.2em;color: black;border-radius: 0.25em;background-color: #f0f8ff;}#sk-container-id-51 input.sk-toggleable__control:checked~div.sk-toggleable__content {max-height: 200px;max-width: 100%;overflow: auto;}#sk-container-id-51 input.sk-toggleable__control:checked~label.sk-toggleable__label-arrow:before {content: \"▾\";}#sk-container-id-51 div.sk-estimator input.sk-toggleable__control:checked~label.sk-toggleable__label {background-color: #d4ebff;}#sk-container-id-51 div.sk-label input.sk-toggleable__control:checked~label.sk-toggleable__label {background-color: #d4ebff;}#sk-container-id-51 input.sk-hidden--visually {border: 0;clip: rect(1px 1px 1px 1px);clip: rect(1px, 1px, 1px, 1px);height: 1px;margin: -1px;overflow: hidden;padding: 0;position: absolute;width: 1px;}#sk-container-id-51 div.sk-estimator {font-family: monospace;background-color: #f0f8ff;border: 1px dotted black;border-radius: 0.25em;box-sizing: border-box;margin-bottom: 0.5em;}#sk-container-id-51 div.sk-estimator:hover {background-color: #d4ebff;}#sk-container-id-51 div.sk-parallel-item::after {content: \"\";width: 100%;border-bottom: 1px solid gray;flex-grow: 1;}#sk-container-id-51 div.sk-label:hover label.sk-toggleable__label {background-color: #d4ebff;}#sk-container-id-51 div.sk-serial::before {content: \"\";position: absolute;border-left: 1px solid gray;box-sizing: border-box;top: 0;bottom: 0;left: 50%;z-index: 0;}#sk-container-id-51 div.sk-serial {display: flex;flex-direction: column;align-items: center;background-color: white;padding-right: 0.2em;padding-left: 0.2em;position: relative;}#sk-container-id-51 div.sk-item {position: relative;z-index: 1;}#sk-container-id-51 div.sk-parallel {display: flex;align-items: stretch;justify-content: center;background-color: white;position: relative;}#sk-container-id-51 div.sk-item::before, #sk-container-id-51 div.sk-parallel-item::before {content: \"\";position: absolute;border-left: 1px solid gray;box-sizing: border-box;top: 0;bottom: 0;left: 50%;z-index: -1;}#sk-container-id-51 div.sk-parallel-item {display: flex;flex-direction: column;z-index: 1;position: relative;background-color: white;}#sk-container-id-51 div.sk-parallel-item:first-child::after {align-self: flex-end;width: 50%;}#sk-container-id-51 div.sk-parallel-item:last-child::after {align-self: flex-start;width: 50%;}#sk-container-id-51 div.sk-parallel-item:only-child::after {width: 0;}#sk-container-id-51 div.sk-dashed-wrapped {border: 1px dashed gray;margin: 0 0.4em 0.5em 0.4em;box-sizing: border-box;padding-bottom: 0.4em;background-color: white;}#sk-container-id-51 div.sk-label label {font-family: monospace;font-weight: bold;display: inline-block;line-height: 1.2em;}#sk-container-id-51 div.sk-label-container {text-align: center;}#sk-container-id-51 div.sk-container {/* jupyter's `normalize.less` sets `[hidden] { display: none; }` but bootstrap.min.css set `[hidden] { display: none !important; }` so we also need the `!important` here to be able to override the default hidden behavior on the sphinx rendered scikit-learn.org. See: https://github.com/scikit-learn/scikit-learn/issues/21755 */display: inline-block !important;position: relative;}#sk-container-id-51 div.sk-text-repr-fallback {display: none;}</style><div id=\"sk-container-id-51\" class=\"sk-top-container\"><div class=\"sk-text-repr-fallback\"><pre>LinearRegression()</pre><b>In a Jupyter environment, please rerun this cell to show the HTML representation or trust the notebook. <br />On GitHub, the HTML representation is unable to render, please try loading this page with nbviewer.org.</b></div><div class=\"sk-container\" hidden><div class=\"sk-item\"><div class=\"sk-estimator sk-toggleable\"><input class=\"sk-toggleable__control sk-hidden--visually\" id=\"sk-estimator-id-51\" type=\"checkbox\" checked><label for=\"sk-estimator-id-51\" class=\"sk-toggleable__label sk-toggleable__label-arrow\">LinearRegression</label><div class=\"sk-toggleable__content\"><pre>LinearRegression()</pre></div></div></div></div></div>"
      ],
      "text/plain": [
       "LinearRegression()"
      ]
     },
     "execution_count": 415,
     "metadata": {},
     "output_type": "execute_result"
    }
   ],
   "source": [
    "X_train, X_val, y_train, y_val = train_test_split(X_poly, y, random_state=2020)\n",
    "lr_poly = LinearRegression()\n",
    "lr_poly.fit(X_train, y_train)"
   ]
  },
  {
   "cell_type": "code",
   "execution_count": 416,
   "id": "dd3c6821",
   "metadata": {},
   "outputs": [],
   "source": [
    "r2_mod2train = lr_poly.score(X_train, y_train)"
   ]
  },
  {
   "cell_type": "code",
   "execution_count": 417,
   "id": "3b19bc33",
   "metadata": {},
   "outputs": [],
   "source": [
    "r2_mod2val = lr_poly.score(X_val, y_val)"
   ]
  },
  {
   "cell_type": "code",
   "execution_count": 418,
   "id": "654977dd",
   "metadata": {},
   "outputs": [],
   "source": [
    "y_predict = lr_poly.predict(X_test)"
   ]
  },
  {
   "cell_type": "code",
   "execution_count": 419,
   "id": "e49f0f4b",
   "metadata": {},
   "outputs": [],
   "source": [
    "mae_mod2 = metrics.mean_absolute_error(y_val, y_predict)"
   ]
  },
  {
   "cell_type": "code",
   "execution_count": 449,
   "id": "6329310b",
   "metadata": {},
   "outputs": [],
   "source": [
    "rmse_mod2 = metrics.mean_squared_error(y_val, y_predict, squared=False)"
   ]
  },
  {
   "cell_type": "code",
   "execution_count": 354,
   "id": "189ec485",
   "metadata": {},
   "outputs": [],
   "source": [
    "preds = lr_poly.predict(test_poly)"
   ]
  },
  {
   "cell_type": "code",
   "execution_count": 355,
   "id": "92b8548c",
   "metadata": {},
   "outputs": [],
   "source": [
    "test_poly['SalePrice'] = preds"
   ]
  },
  {
   "cell_type": "code",
   "execution_count": 356,
   "id": "22922de7",
   "metadata": {},
   "outputs": [],
   "source": [
    "poly_submission = test_poly[['Id', 'SalePrice']].set_index('Id')"
   ]
  },
  {
   "cell_type": "code",
   "execution_count": 357,
   "id": "44100b77",
   "metadata": {},
   "outputs": [],
   "source": [
    "poly_submission.to_csv('../datasets/Poly_Submission_results.csv')"
   ]
  },
  {
   "cell_type": "markdown",
   "id": "0109de92",
   "metadata": {},
   "source": [
    "### Model 3"
   ]
  },
  {
   "cell_type": "code",
   "execution_count": 358,
   "id": "582c9286",
   "metadata": {},
   "outputs": [],
   "source": [
    "train = pd.read_csv('../datasets/Selected_train_data.csv')\n",
    "test = pd.read_csv('../datasets/Selected_test_data1.csv')"
   ]
  },
  {
   "cell_type": "code",
   "execution_count": 359,
   "id": "95ecb46c",
   "metadata": {},
   "outputs": [
    {
     "data": {
      "text/plain": [
       "Id               0\n",
       "Overall Qual     0\n",
       "Year Built       0\n",
       "Full Bath        0\n",
       "Half Bath        0\n",
       "Garage Area      0\n",
       "Total Bsmt SF    0\n",
       "Gr Liv Area      0\n",
       "1st Flr SF       0\n",
       "2nd Flr SF       0\n",
       "SalePrice        0\n",
       "dtype: int64"
      ]
     },
     "execution_count": 359,
     "metadata": {},
     "output_type": "execute_result"
    }
   ],
   "source": [
    "train.isna().sum()"
   ]
  },
  {
   "cell_type": "code",
   "execution_count": 360,
   "id": "5235d1ec",
   "metadata": {},
   "outputs": [],
   "source": [
    "X2 = train.drop(columns=['Full Bath', 'Half Bath', 'SalePrice'])\n",
    "y2 = train['SalePrice']"
   ]
  },
  {
   "cell_type": "code",
   "execution_count": 420,
   "id": "dbe8cbfe",
   "metadata": {},
   "outputs": [
    {
     "data": {
      "text/html": [
       "<style>#sk-container-id-52 {color: black;}#sk-container-id-52 pre{padding: 0;}#sk-container-id-52 div.sk-toggleable {background-color: white;}#sk-container-id-52 label.sk-toggleable__label {cursor: pointer;display: block;width: 100%;margin-bottom: 0;padding: 0.3em;box-sizing: border-box;text-align: center;}#sk-container-id-52 label.sk-toggleable__label-arrow:before {content: \"▸\";float: left;margin-right: 0.25em;color: #696969;}#sk-container-id-52 label.sk-toggleable__label-arrow:hover:before {color: black;}#sk-container-id-52 div.sk-estimator:hover label.sk-toggleable__label-arrow:before {color: black;}#sk-container-id-52 div.sk-toggleable__content {max-height: 0;max-width: 0;overflow: hidden;text-align: left;background-color: #f0f8ff;}#sk-container-id-52 div.sk-toggleable__content pre {margin: 0.2em;color: black;border-radius: 0.25em;background-color: #f0f8ff;}#sk-container-id-52 input.sk-toggleable__control:checked~div.sk-toggleable__content {max-height: 200px;max-width: 100%;overflow: auto;}#sk-container-id-52 input.sk-toggleable__control:checked~label.sk-toggleable__label-arrow:before {content: \"▾\";}#sk-container-id-52 div.sk-estimator input.sk-toggleable__control:checked~label.sk-toggleable__label {background-color: #d4ebff;}#sk-container-id-52 div.sk-label input.sk-toggleable__control:checked~label.sk-toggleable__label {background-color: #d4ebff;}#sk-container-id-52 input.sk-hidden--visually {border: 0;clip: rect(1px 1px 1px 1px);clip: rect(1px, 1px, 1px, 1px);height: 1px;margin: -1px;overflow: hidden;padding: 0;position: absolute;width: 1px;}#sk-container-id-52 div.sk-estimator {font-family: monospace;background-color: #f0f8ff;border: 1px dotted black;border-radius: 0.25em;box-sizing: border-box;margin-bottom: 0.5em;}#sk-container-id-52 div.sk-estimator:hover {background-color: #d4ebff;}#sk-container-id-52 div.sk-parallel-item::after {content: \"\";width: 100%;border-bottom: 1px solid gray;flex-grow: 1;}#sk-container-id-52 div.sk-label:hover label.sk-toggleable__label {background-color: #d4ebff;}#sk-container-id-52 div.sk-serial::before {content: \"\";position: absolute;border-left: 1px solid gray;box-sizing: border-box;top: 0;bottom: 0;left: 50%;z-index: 0;}#sk-container-id-52 div.sk-serial {display: flex;flex-direction: column;align-items: center;background-color: white;padding-right: 0.2em;padding-left: 0.2em;position: relative;}#sk-container-id-52 div.sk-item {position: relative;z-index: 1;}#sk-container-id-52 div.sk-parallel {display: flex;align-items: stretch;justify-content: center;background-color: white;position: relative;}#sk-container-id-52 div.sk-item::before, #sk-container-id-52 div.sk-parallel-item::before {content: \"\";position: absolute;border-left: 1px solid gray;box-sizing: border-box;top: 0;bottom: 0;left: 50%;z-index: -1;}#sk-container-id-52 div.sk-parallel-item {display: flex;flex-direction: column;z-index: 1;position: relative;background-color: white;}#sk-container-id-52 div.sk-parallel-item:first-child::after {align-self: flex-end;width: 50%;}#sk-container-id-52 div.sk-parallel-item:last-child::after {align-self: flex-start;width: 50%;}#sk-container-id-52 div.sk-parallel-item:only-child::after {width: 0;}#sk-container-id-52 div.sk-dashed-wrapped {border: 1px dashed gray;margin: 0 0.4em 0.5em 0.4em;box-sizing: border-box;padding-bottom: 0.4em;background-color: white;}#sk-container-id-52 div.sk-label label {font-family: monospace;font-weight: bold;display: inline-block;line-height: 1.2em;}#sk-container-id-52 div.sk-label-container {text-align: center;}#sk-container-id-52 div.sk-container {/* jupyter's `normalize.less` sets `[hidden] { display: none; }` but bootstrap.min.css set `[hidden] { display: none !important; }` so we also need the `!important` here to be able to override the default hidden behavior on the sphinx rendered scikit-learn.org. See: https://github.com/scikit-learn/scikit-learn/issues/21755 */display: inline-block !important;position: relative;}#sk-container-id-52 div.sk-text-repr-fallback {display: none;}</style><div id=\"sk-container-id-52\" class=\"sk-top-container\"><div class=\"sk-text-repr-fallback\"><pre>LinearRegression()</pre><b>In a Jupyter environment, please rerun this cell to show the HTML representation or trust the notebook. <br />On GitHub, the HTML representation is unable to render, please try loading this page with nbviewer.org.</b></div><div class=\"sk-container\" hidden><div class=\"sk-item\"><div class=\"sk-estimator sk-toggleable\"><input class=\"sk-toggleable__control sk-hidden--visually\" id=\"sk-estimator-id-52\" type=\"checkbox\" checked><label for=\"sk-estimator-id-52\" class=\"sk-toggleable__label sk-toggleable__label-arrow\">LinearRegression</label><div class=\"sk-toggleable__content\"><pre>LinearRegression()</pre></div></div></div></div></div>"
      ],
      "text/plain": [
       "LinearRegression()"
      ]
     },
     "execution_count": 420,
     "metadata": {},
     "output_type": "execute_result"
    }
   ],
   "source": [
    "X2_train, X2_val, y2_train, y2_val = train_test_split(X2, y2, random_state=2020)\n",
    "lr2 = LinearRegression()\n",
    "lr2.fit(X2_train, y2_train)"
   ]
  },
  {
   "cell_type": "code",
   "execution_count": 362,
   "id": "6ee2fb7f",
   "metadata": {},
   "outputs": [],
   "source": [
    "r2_mod3train = lr2.score(X2_train, y2_train)"
   ]
  },
  {
   "cell_type": "code",
   "execution_count": 421,
   "id": "d2e53ae4",
   "metadata": {},
   "outputs": [],
   "source": [
    "r2_mod3val = lr2.score(X2_val, y2_val)"
   ]
  },
  {
   "cell_type": "code",
   "execution_count": 422,
   "id": "3a0e569f",
   "metadata": {},
   "outputs": [],
   "source": [
    "y_pred2 = lr2.predict(X2_val)\n",
    "mae_mod3 = metrics.mean_absolute_error(y2_val, y_pred2)"
   ]
  },
  {
   "cell_type": "code",
   "execution_count": 448,
   "id": "b97224ab",
   "metadata": {},
   "outputs": [],
   "source": [
    "rmse_mod3 = metrics.mean_squared_error(y2_val, y_pred2, squared=False)"
   ]
  },
  {
   "cell_type": "markdown",
   "id": "3d21fc9e",
   "metadata": {},
   "source": [
    "### Model 4 - StandardScalar"
   ]
  },
  {
   "cell_type": "code",
   "execution_count": 366,
   "id": "5b36f734",
   "metadata": {},
   "outputs": [],
   "source": [
    "trainsc = pd.read_csv('../datasets/Train_StandardScaled.csv')"
   ]
  },
  {
   "cell_type": "code",
   "execution_count": 367,
   "id": "5ca246ca",
   "metadata": {},
   "outputs": [],
   "source": [
    "X3 = trainsc.drop(columns=['SalePrice'])\n",
    "y3 = trainsc['SalePrice']"
   ]
  },
  {
   "cell_type": "code",
   "execution_count": 424,
   "id": "f0dedbc7",
   "metadata": {},
   "outputs": [
    {
     "data": {
      "text/html": [
       "<style>#sk-container-id-53 {color: black;}#sk-container-id-53 pre{padding: 0;}#sk-container-id-53 div.sk-toggleable {background-color: white;}#sk-container-id-53 label.sk-toggleable__label {cursor: pointer;display: block;width: 100%;margin-bottom: 0;padding: 0.3em;box-sizing: border-box;text-align: center;}#sk-container-id-53 label.sk-toggleable__label-arrow:before {content: \"▸\";float: left;margin-right: 0.25em;color: #696969;}#sk-container-id-53 label.sk-toggleable__label-arrow:hover:before {color: black;}#sk-container-id-53 div.sk-estimator:hover label.sk-toggleable__label-arrow:before {color: black;}#sk-container-id-53 div.sk-toggleable__content {max-height: 0;max-width: 0;overflow: hidden;text-align: left;background-color: #f0f8ff;}#sk-container-id-53 div.sk-toggleable__content pre {margin: 0.2em;color: black;border-radius: 0.25em;background-color: #f0f8ff;}#sk-container-id-53 input.sk-toggleable__control:checked~div.sk-toggleable__content {max-height: 200px;max-width: 100%;overflow: auto;}#sk-container-id-53 input.sk-toggleable__control:checked~label.sk-toggleable__label-arrow:before {content: \"▾\";}#sk-container-id-53 div.sk-estimator input.sk-toggleable__control:checked~label.sk-toggleable__label {background-color: #d4ebff;}#sk-container-id-53 div.sk-label input.sk-toggleable__control:checked~label.sk-toggleable__label {background-color: #d4ebff;}#sk-container-id-53 input.sk-hidden--visually {border: 0;clip: rect(1px 1px 1px 1px);clip: rect(1px, 1px, 1px, 1px);height: 1px;margin: -1px;overflow: hidden;padding: 0;position: absolute;width: 1px;}#sk-container-id-53 div.sk-estimator {font-family: monospace;background-color: #f0f8ff;border: 1px dotted black;border-radius: 0.25em;box-sizing: border-box;margin-bottom: 0.5em;}#sk-container-id-53 div.sk-estimator:hover {background-color: #d4ebff;}#sk-container-id-53 div.sk-parallel-item::after {content: \"\";width: 100%;border-bottom: 1px solid gray;flex-grow: 1;}#sk-container-id-53 div.sk-label:hover label.sk-toggleable__label {background-color: #d4ebff;}#sk-container-id-53 div.sk-serial::before {content: \"\";position: absolute;border-left: 1px solid gray;box-sizing: border-box;top: 0;bottom: 0;left: 50%;z-index: 0;}#sk-container-id-53 div.sk-serial {display: flex;flex-direction: column;align-items: center;background-color: white;padding-right: 0.2em;padding-left: 0.2em;position: relative;}#sk-container-id-53 div.sk-item {position: relative;z-index: 1;}#sk-container-id-53 div.sk-parallel {display: flex;align-items: stretch;justify-content: center;background-color: white;position: relative;}#sk-container-id-53 div.sk-item::before, #sk-container-id-53 div.sk-parallel-item::before {content: \"\";position: absolute;border-left: 1px solid gray;box-sizing: border-box;top: 0;bottom: 0;left: 50%;z-index: -1;}#sk-container-id-53 div.sk-parallel-item {display: flex;flex-direction: column;z-index: 1;position: relative;background-color: white;}#sk-container-id-53 div.sk-parallel-item:first-child::after {align-self: flex-end;width: 50%;}#sk-container-id-53 div.sk-parallel-item:last-child::after {align-self: flex-start;width: 50%;}#sk-container-id-53 div.sk-parallel-item:only-child::after {width: 0;}#sk-container-id-53 div.sk-dashed-wrapped {border: 1px dashed gray;margin: 0 0.4em 0.5em 0.4em;box-sizing: border-box;padding-bottom: 0.4em;background-color: white;}#sk-container-id-53 div.sk-label label {font-family: monospace;font-weight: bold;display: inline-block;line-height: 1.2em;}#sk-container-id-53 div.sk-label-container {text-align: center;}#sk-container-id-53 div.sk-container {/* jupyter's `normalize.less` sets `[hidden] { display: none; }` but bootstrap.min.css set `[hidden] { display: none !important; }` so we also need the `!important` here to be able to override the default hidden behavior on the sphinx rendered scikit-learn.org. See: https://github.com/scikit-learn/scikit-learn/issues/21755 */display: inline-block !important;position: relative;}#sk-container-id-53 div.sk-text-repr-fallback {display: none;}</style><div id=\"sk-container-id-53\" class=\"sk-top-container\"><div class=\"sk-text-repr-fallback\"><pre>LinearRegression()</pre><b>In a Jupyter environment, please rerun this cell to show the HTML representation or trust the notebook. <br />On GitHub, the HTML representation is unable to render, please try loading this page with nbviewer.org.</b></div><div class=\"sk-container\" hidden><div class=\"sk-item\"><div class=\"sk-estimator sk-toggleable\"><input class=\"sk-toggleable__control sk-hidden--visually\" id=\"sk-estimator-id-53\" type=\"checkbox\" checked><label for=\"sk-estimator-id-53\" class=\"sk-toggleable__label sk-toggleable__label-arrow\">LinearRegression</label><div class=\"sk-toggleable__content\"><pre>LinearRegression()</pre></div></div></div></div></div>"
      ],
      "text/plain": [
       "LinearRegression()"
      ]
     },
     "execution_count": 424,
     "metadata": {},
     "output_type": "execute_result"
    }
   ],
   "source": [
    "X3_train,X3_val, y3_train, y3_val = train_test_split(X3, y3, random_state=2020)\n",
    "lr3 = LinearRegression()\n",
    "lr3.fit(X3_train, y3_train)"
   ]
  },
  {
   "cell_type": "code",
   "execution_count": 385,
   "id": "ff9a1b25",
   "metadata": {},
   "outputs": [],
   "source": [
    "r2_mod4train = lr3.score(X3_train, y3_train)"
   ]
  },
  {
   "cell_type": "code",
   "execution_count": 425,
   "id": "d30d490a",
   "metadata": {},
   "outputs": [],
   "source": [
    "r2_mod4val = lr3.score(X3_val, y3_val)"
   ]
  },
  {
   "cell_type": "code",
   "execution_count": 426,
   "id": "726d35e8",
   "metadata": {},
   "outputs": [],
   "source": [
    "y_pred3 = lr3.predict(X3_val)\n",
    "mae_mod4 = metrics.mean_absolute_error(y3_val, y_pred3)"
   ]
  },
  {
   "cell_type": "code",
   "execution_count": 447,
   "id": "88739286",
   "metadata": {},
   "outputs": [],
   "source": [
    "rmse_mod4 = metrics.mean_squared_error(y3_val, y_pred3, squared=False)"
   ]
  },
  {
   "cell_type": "markdown",
   "id": "11abcdc2",
   "metadata": {},
   "source": [
    "### Model 5 - Poly and StandardScalar"
   ]
  },
  {
   "cell_type": "code",
   "execution_count": 372,
   "id": "7086fa90",
   "metadata": {},
   "outputs": [],
   "source": [
    "trainpolysc = pd.read_csv('../datasets/Train_PolyandStandardScaler.csv')"
   ]
  },
  {
   "cell_type": "code",
   "execution_count": 428,
   "id": "585c87ab",
   "metadata": {},
   "outputs": [
    {
     "data": {
      "text/html": [
       "<style>#sk-container-id-54 {color: black;}#sk-container-id-54 pre{padding: 0;}#sk-container-id-54 div.sk-toggleable {background-color: white;}#sk-container-id-54 label.sk-toggleable__label {cursor: pointer;display: block;width: 100%;margin-bottom: 0;padding: 0.3em;box-sizing: border-box;text-align: center;}#sk-container-id-54 label.sk-toggleable__label-arrow:before {content: \"▸\";float: left;margin-right: 0.25em;color: #696969;}#sk-container-id-54 label.sk-toggleable__label-arrow:hover:before {color: black;}#sk-container-id-54 div.sk-estimator:hover label.sk-toggleable__label-arrow:before {color: black;}#sk-container-id-54 div.sk-toggleable__content {max-height: 0;max-width: 0;overflow: hidden;text-align: left;background-color: #f0f8ff;}#sk-container-id-54 div.sk-toggleable__content pre {margin: 0.2em;color: black;border-radius: 0.25em;background-color: #f0f8ff;}#sk-container-id-54 input.sk-toggleable__control:checked~div.sk-toggleable__content {max-height: 200px;max-width: 100%;overflow: auto;}#sk-container-id-54 input.sk-toggleable__control:checked~label.sk-toggleable__label-arrow:before {content: \"▾\";}#sk-container-id-54 div.sk-estimator input.sk-toggleable__control:checked~label.sk-toggleable__label {background-color: #d4ebff;}#sk-container-id-54 div.sk-label input.sk-toggleable__control:checked~label.sk-toggleable__label {background-color: #d4ebff;}#sk-container-id-54 input.sk-hidden--visually {border: 0;clip: rect(1px 1px 1px 1px);clip: rect(1px, 1px, 1px, 1px);height: 1px;margin: -1px;overflow: hidden;padding: 0;position: absolute;width: 1px;}#sk-container-id-54 div.sk-estimator {font-family: monospace;background-color: #f0f8ff;border: 1px dotted black;border-radius: 0.25em;box-sizing: border-box;margin-bottom: 0.5em;}#sk-container-id-54 div.sk-estimator:hover {background-color: #d4ebff;}#sk-container-id-54 div.sk-parallel-item::after {content: \"\";width: 100%;border-bottom: 1px solid gray;flex-grow: 1;}#sk-container-id-54 div.sk-label:hover label.sk-toggleable__label {background-color: #d4ebff;}#sk-container-id-54 div.sk-serial::before {content: \"\";position: absolute;border-left: 1px solid gray;box-sizing: border-box;top: 0;bottom: 0;left: 50%;z-index: 0;}#sk-container-id-54 div.sk-serial {display: flex;flex-direction: column;align-items: center;background-color: white;padding-right: 0.2em;padding-left: 0.2em;position: relative;}#sk-container-id-54 div.sk-item {position: relative;z-index: 1;}#sk-container-id-54 div.sk-parallel {display: flex;align-items: stretch;justify-content: center;background-color: white;position: relative;}#sk-container-id-54 div.sk-item::before, #sk-container-id-54 div.sk-parallel-item::before {content: \"\";position: absolute;border-left: 1px solid gray;box-sizing: border-box;top: 0;bottom: 0;left: 50%;z-index: -1;}#sk-container-id-54 div.sk-parallel-item {display: flex;flex-direction: column;z-index: 1;position: relative;background-color: white;}#sk-container-id-54 div.sk-parallel-item:first-child::after {align-self: flex-end;width: 50%;}#sk-container-id-54 div.sk-parallel-item:last-child::after {align-self: flex-start;width: 50%;}#sk-container-id-54 div.sk-parallel-item:only-child::after {width: 0;}#sk-container-id-54 div.sk-dashed-wrapped {border: 1px dashed gray;margin: 0 0.4em 0.5em 0.4em;box-sizing: border-box;padding-bottom: 0.4em;background-color: white;}#sk-container-id-54 div.sk-label label {font-family: monospace;font-weight: bold;display: inline-block;line-height: 1.2em;}#sk-container-id-54 div.sk-label-container {text-align: center;}#sk-container-id-54 div.sk-container {/* jupyter's `normalize.less` sets `[hidden] { display: none; }` but bootstrap.min.css set `[hidden] { display: none !important; }` so we also need the `!important` here to be able to override the default hidden behavior on the sphinx rendered scikit-learn.org. See: https://github.com/scikit-learn/scikit-learn/issues/21755 */display: inline-block !important;position: relative;}#sk-container-id-54 div.sk-text-repr-fallback {display: none;}</style><div id=\"sk-container-id-54\" class=\"sk-top-container\"><div class=\"sk-text-repr-fallback\"><pre>LinearRegression()</pre><b>In a Jupyter environment, please rerun this cell to show the HTML representation or trust the notebook. <br />On GitHub, the HTML representation is unable to render, please try loading this page with nbviewer.org.</b></div><div class=\"sk-container\" hidden><div class=\"sk-item\"><div class=\"sk-estimator sk-toggleable\"><input class=\"sk-toggleable__control sk-hidden--visually\" id=\"sk-estimator-id-54\" type=\"checkbox\" checked><label for=\"sk-estimator-id-54\" class=\"sk-toggleable__label sk-toggleable__label-arrow\">LinearRegression</label><div class=\"sk-toggleable__content\"><pre>LinearRegression()</pre></div></div></div></div></div>"
      ],
      "text/plain": [
       "LinearRegression()"
      ]
     },
     "execution_count": 428,
     "metadata": {},
     "output_type": "execute_result"
    }
   ],
   "source": [
    "X4 = trainpolysc.drop(columns=['SalePrice'])\n",
    "y4 = trainpolysc['SalePrice']\n",
    "X4_train, X4_val, y4_train, y4_val = train_test_split(X4, y4, random_state=42)\n",
    "lr4 = LinearRegression()\n",
    "lr4.fit(X4_train, y4_train)"
   ]
  },
  {
   "cell_type": "code",
   "execution_count": 389,
   "id": "f65609f5",
   "metadata": {},
   "outputs": [],
   "source": [
    "r2_mod5train = lr4.score(X4_train, y4_train)"
   ]
  },
  {
   "cell_type": "code",
   "execution_count": 429,
   "id": "202ab63d",
   "metadata": {},
   "outputs": [],
   "source": [
    "r2_mod5val = lr4.score(X4_val, y4_val)"
   ]
  },
  {
   "cell_type": "code",
   "execution_count": 430,
   "id": "96e7b141",
   "metadata": {},
   "outputs": [],
   "source": [
    "y_pred4 = lr4.predict(X4_val)\n",
    "mae_mod5 = metrics.mean_absolute_error(y4_val, y_pred4)"
   ]
  },
  {
   "cell_type": "code",
   "execution_count": 453,
   "id": "b03c4ff5",
   "metadata": {},
   "outputs": [],
   "source": [
    "rmse_mod5 = metrics.mean_squared_error(y4_val, y_pred4, squared=False)"
   ]
  },
  {
   "cell_type": "code",
   "execution_count": 377,
   "id": "d9afafe4",
   "metadata": {},
   "outputs": [],
   "source": [
    "testpolysc = pd.read_csv('../datasets/Test_Poly&StandardScaler.csv')\n",
    "\n",
    "predpolysc = lr4.predict(testpolysc)"
   ]
  },
  {
   "cell_type": "code",
   "execution_count": 378,
   "id": "7c6611f0",
   "metadata": {},
   "outputs": [],
   "source": [
    "testpolysc['SalePrice'] = predpolysc\n",
    "\n",
    "polysc_sub = testpolysc[['Id', 'SalePrice']].set_index('Id')\n",
    "polysc_sub.to_csv('../datasets/PolyStandardScale_Submission.csv')"
   ]
  },
  {
   "cell_type": "markdown",
   "id": "a5948dc2",
   "metadata": {},
   "source": [
    "### Model 6: Ridge CV"
   ]
  },
  {
   "cell_type": "code",
   "execution_count": 379,
   "id": "50e392aa",
   "metadata": {},
   "outputs": [],
   "source": [
    "from sklearn.linear_model import RidgeCV"
   ]
  },
  {
   "cell_type": "code",
   "execution_count": 473,
   "id": "903f4f66",
   "metadata": {},
   "outputs": [
    {
     "data": {
      "text/html": [
       "<style>#sk-container-id-55 {color: black;}#sk-container-id-55 pre{padding: 0;}#sk-container-id-55 div.sk-toggleable {background-color: white;}#sk-container-id-55 label.sk-toggleable__label {cursor: pointer;display: block;width: 100%;margin-bottom: 0;padding: 0.3em;box-sizing: border-box;text-align: center;}#sk-container-id-55 label.sk-toggleable__label-arrow:before {content: \"▸\";float: left;margin-right: 0.25em;color: #696969;}#sk-container-id-55 label.sk-toggleable__label-arrow:hover:before {color: black;}#sk-container-id-55 div.sk-estimator:hover label.sk-toggleable__label-arrow:before {color: black;}#sk-container-id-55 div.sk-toggleable__content {max-height: 0;max-width: 0;overflow: hidden;text-align: left;background-color: #f0f8ff;}#sk-container-id-55 div.sk-toggleable__content pre {margin: 0.2em;color: black;border-radius: 0.25em;background-color: #f0f8ff;}#sk-container-id-55 input.sk-toggleable__control:checked~div.sk-toggleable__content {max-height: 200px;max-width: 100%;overflow: auto;}#sk-container-id-55 input.sk-toggleable__control:checked~label.sk-toggleable__label-arrow:before {content: \"▾\";}#sk-container-id-55 div.sk-estimator input.sk-toggleable__control:checked~label.sk-toggleable__label {background-color: #d4ebff;}#sk-container-id-55 div.sk-label input.sk-toggleable__control:checked~label.sk-toggleable__label {background-color: #d4ebff;}#sk-container-id-55 input.sk-hidden--visually {border: 0;clip: rect(1px 1px 1px 1px);clip: rect(1px, 1px, 1px, 1px);height: 1px;margin: -1px;overflow: hidden;padding: 0;position: absolute;width: 1px;}#sk-container-id-55 div.sk-estimator {font-family: monospace;background-color: #f0f8ff;border: 1px dotted black;border-radius: 0.25em;box-sizing: border-box;margin-bottom: 0.5em;}#sk-container-id-55 div.sk-estimator:hover {background-color: #d4ebff;}#sk-container-id-55 div.sk-parallel-item::after {content: \"\";width: 100%;border-bottom: 1px solid gray;flex-grow: 1;}#sk-container-id-55 div.sk-label:hover label.sk-toggleable__label {background-color: #d4ebff;}#sk-container-id-55 div.sk-serial::before {content: \"\";position: absolute;border-left: 1px solid gray;box-sizing: border-box;top: 0;bottom: 0;left: 50%;z-index: 0;}#sk-container-id-55 div.sk-serial {display: flex;flex-direction: column;align-items: center;background-color: white;padding-right: 0.2em;padding-left: 0.2em;position: relative;}#sk-container-id-55 div.sk-item {position: relative;z-index: 1;}#sk-container-id-55 div.sk-parallel {display: flex;align-items: stretch;justify-content: center;background-color: white;position: relative;}#sk-container-id-55 div.sk-item::before, #sk-container-id-55 div.sk-parallel-item::before {content: \"\";position: absolute;border-left: 1px solid gray;box-sizing: border-box;top: 0;bottom: 0;left: 50%;z-index: -1;}#sk-container-id-55 div.sk-parallel-item {display: flex;flex-direction: column;z-index: 1;position: relative;background-color: white;}#sk-container-id-55 div.sk-parallel-item:first-child::after {align-self: flex-end;width: 50%;}#sk-container-id-55 div.sk-parallel-item:last-child::after {align-self: flex-start;width: 50%;}#sk-container-id-55 div.sk-parallel-item:only-child::after {width: 0;}#sk-container-id-55 div.sk-dashed-wrapped {border: 1px dashed gray;margin: 0 0.4em 0.5em 0.4em;box-sizing: border-box;padding-bottom: 0.4em;background-color: white;}#sk-container-id-55 div.sk-label label {font-family: monospace;font-weight: bold;display: inline-block;line-height: 1.2em;}#sk-container-id-55 div.sk-label-container {text-align: center;}#sk-container-id-55 div.sk-container {/* jupyter's `normalize.less` sets `[hidden] { display: none; }` but bootstrap.min.css set `[hidden] { display: none !important; }` so we also need the `!important` here to be able to override the default hidden behavior on the sphinx rendered scikit-learn.org. See: https://github.com/scikit-learn/scikit-learn/issues/21755 */display: inline-block !important;position: relative;}#sk-container-id-55 div.sk-text-repr-fallback {display: none;}</style><div id=\"sk-container-id-55\" class=\"sk-top-container\"><div class=\"sk-text-repr-fallback\"><pre>RidgeCV(alphas=array([1.00000000e-02, 1.17681195e-02, 1.38488637e-02, 1.62975083e-02,\n",
       "       1.91791026e-02, 2.25701972e-02, 2.65608778e-02, 3.12571585e-02,\n",
       "       3.67837977e-02, 4.32876128e-02, 5.09413801e-02, 5.99484250e-02,\n",
       "       7.05480231e-02, 8.30217568e-02, 9.77009957e-02, 1.14975700e-01,\n",
       "       1.35304777e-01, 1.59228279e-01, 1.87381742e-01, 2.20513074e-01,\n",
       "       2.59502421e-01, 3.05385551e-0...\n",
       "       2.36448941e+03, 2.78255940e+03, 3.27454916e+03, 3.85352859e+03,\n",
       "       4.53487851e+03, 5.33669923e+03, 6.28029144e+03, 7.39072203e+03,\n",
       "       8.69749003e+03, 1.02353102e+04, 1.20450354e+04, 1.41747416e+04,\n",
       "       1.66810054e+04, 1.96304065e+04, 2.31012970e+04, 2.71858824e+04,\n",
       "       3.19926714e+04, 3.76493581e+04, 4.43062146e+04, 5.21400829e+04,\n",
       "       6.13590727e+04, 7.22080902e+04, 8.49753436e+04, 1.00000000e+05]),\n",
       "        cv=10)</pre><b>In a Jupyter environment, please rerun this cell to show the HTML representation or trust the notebook. <br />On GitHub, the HTML representation is unable to render, please try loading this page with nbviewer.org.</b></div><div class=\"sk-container\" hidden><div class=\"sk-item\"><div class=\"sk-estimator sk-toggleable\"><input class=\"sk-toggleable__control sk-hidden--visually\" id=\"sk-estimator-id-55\" type=\"checkbox\" checked><label for=\"sk-estimator-id-55\" class=\"sk-toggleable__label sk-toggleable__label-arrow\">RidgeCV</label><div class=\"sk-toggleable__content\"><pre>RidgeCV(alphas=array([1.00000000e-02, 1.17681195e-02, 1.38488637e-02, 1.62975083e-02,\n",
       "       1.91791026e-02, 2.25701972e-02, 2.65608778e-02, 3.12571585e-02,\n",
       "       3.67837977e-02, 4.32876128e-02, 5.09413801e-02, 5.99484250e-02,\n",
       "       7.05480231e-02, 8.30217568e-02, 9.77009957e-02, 1.14975700e-01,\n",
       "       1.35304777e-01, 1.59228279e-01, 1.87381742e-01, 2.20513074e-01,\n",
       "       2.59502421e-01, 3.05385551e-0...\n",
       "       2.36448941e+03, 2.78255940e+03, 3.27454916e+03, 3.85352859e+03,\n",
       "       4.53487851e+03, 5.33669923e+03, 6.28029144e+03, 7.39072203e+03,\n",
       "       8.69749003e+03, 1.02353102e+04, 1.20450354e+04, 1.41747416e+04,\n",
       "       1.66810054e+04, 1.96304065e+04, 2.31012970e+04, 2.71858824e+04,\n",
       "       3.19926714e+04, 3.76493581e+04, 4.43062146e+04, 5.21400829e+04,\n",
       "       6.13590727e+04, 7.22080902e+04, 8.49753436e+04, 1.00000000e+05]),\n",
       "        cv=10)</pre></div></div></div></div></div>"
      ],
      "text/plain": [
       "RidgeCV(alphas=array([1.00000000e-02, 1.17681195e-02, 1.38488637e-02, 1.62975083e-02,\n",
       "       1.91791026e-02, 2.25701972e-02, 2.65608778e-02, 3.12571585e-02,\n",
       "       3.67837977e-02, 4.32876128e-02, 5.09413801e-02, 5.99484250e-02,\n",
       "       7.05480231e-02, 8.30217568e-02, 9.77009957e-02, 1.14975700e-01,\n",
       "       1.35304777e-01, 1.59228279e-01, 1.87381742e-01, 2.20513074e-01,\n",
       "       2.59502421e-01, 3.05385551e-0...\n",
       "       2.36448941e+03, 2.78255940e+03, 3.27454916e+03, 3.85352859e+03,\n",
       "       4.53487851e+03, 5.33669923e+03, 6.28029144e+03, 7.39072203e+03,\n",
       "       8.69749003e+03, 1.02353102e+04, 1.20450354e+04, 1.41747416e+04,\n",
       "       1.66810054e+04, 1.96304065e+04, 2.31012970e+04, 2.71858824e+04,\n",
       "       3.19926714e+04, 3.76493581e+04, 4.43062146e+04, 5.21400829e+04,\n",
       "       6.13590727e+04, 7.22080902e+04, 8.49753436e+04, 1.00000000e+05]),\n",
       "        cv=10)"
      ]
     },
     "execution_count": 473,
     "metadata": {},
     "output_type": "execute_result"
    }
   ],
   "source": [
    "r_alphas = np.logspace(-2, 5, 100)\n",
    "ridge_cv = RidgeCV(alphas=r_alphas, cv=10)\n",
    "ridge_cv.fit(X4_train, y4_train)"
   ]
  },
  {
   "cell_type": "code",
   "execution_count": 474,
   "id": "4170cda6",
   "metadata": {},
   "outputs": [
    {
     "data": {
      "text/plain": [
       "0.8527113544119527"
      ]
     },
     "execution_count": 474,
     "metadata": {},
     "output_type": "execute_result"
    }
   ],
   "source": [
    "ridge_cv.best_score_"
   ]
  },
  {
   "cell_type": "code",
   "execution_count": 394,
   "id": "6b694627",
   "metadata": {},
   "outputs": [],
   "source": [
    "r2_mod6train = ridge_cv.score(X4_train, y4_train)"
   ]
  },
  {
   "cell_type": "code",
   "execution_count": 432,
   "id": "d84ba5ab",
   "metadata": {},
   "outputs": [],
   "source": [
    "r2_mod6val = ridge_cv.score(X4_val, y4_val)"
   ]
  },
  {
   "cell_type": "code",
   "execution_count": 433,
   "id": "1df5fc38",
   "metadata": {},
   "outputs": [],
   "source": [
    "y_pred5 = ridge_cv.predict(X4_val)"
   ]
  },
  {
   "cell_type": "code",
   "execution_count": 434,
   "id": "be711194",
   "metadata": {},
   "outputs": [],
   "source": [
    "mae_mod6 = metrics.mean_absolute_error(y4_val, y_pred5)"
   ]
  },
  {
   "cell_type": "code",
   "execution_count": 451,
   "id": "e9b11f1d",
   "metadata": {},
   "outputs": [],
   "source": [
    "rmse_mod6 = metrics.mean_squared_error(y4_val, y_pred5, squared=False)"
   ]
  },
  {
   "cell_type": "code",
   "execution_count": null,
   "id": "a53a4a34",
   "metadata": {},
   "outputs": [],
   "source": [
    "test2_polysc = pd.read_csv('../datasets/Test_Poly&StandardScaler.csv')"
   ]
  },
  {
   "cell_type": "code",
   "execution_count": null,
   "id": "ca25696a",
   "metadata": {},
   "outputs": [],
   "source": [
    "ridge_predict = ridge_cv.predict(test2_polysc)"
   ]
  },
  {
   "cell_type": "code",
   "execution_count": null,
   "id": "38d95d79",
   "metadata": {},
   "outputs": [],
   "source": [
    "ridge_sub = pd.DataFrame(test2_polysc['Id'])\n",
    "ridge_sub['SalePrice'] = ridge_predict\n",
    "ridge_sub.set_index('Id', inplace=True)\n",
    "ridge_sub.to_csv('../datasets/Ridge_Model_submission.csv')"
   ]
  },
  {
   "cell_type": "markdown",
   "id": "f52977ae",
   "metadata": {},
   "source": [
    "### Creating Metrics DataFrame"
   ]
  },
  {
   "cell_type": "code",
   "execution_count": 465,
   "id": "9a642c11",
   "metadata": {},
   "outputs": [],
   "source": [
    "modelmetrics = pd.DataFrame({\n",
    "    'Model' : ['Mode 1','Model 2', 'Model 3', 'Model 4', 'Model 5', 'Model 6'],\n",
    "    'R2 Score(train)' : [0, r2_mod2train, r2_mod3train,r2_mod4train,r2_mod5train,r2_mod6train],\n",
    "    'R2 Score(Val)' : [0, r2_mod2val,r2_mod3val,r2_mod4val,r2_mod5val,r2_mod6val],\n",
    "    'MAE': [0, mae_mod2,mae_mod3,mae_mod4,mae_mod5,mae_mod6 ],\n",
    "    'RMSE': [0, rmse_mod2,rmse_mod3,rmse_mod4,rmse_mod5,rmse_mod6],\n",
    "    'Description': ['Baseline', 'Poly', 'Dropped Full Bath and Half Bath', 'StandardScaled', 'Poly and SC', 'RidgeCv']\n",
    "})"
   ]
  },
  {
   "cell_type": "code",
   "execution_count": 466,
   "id": "fa975a93",
   "metadata": {},
   "outputs": [
    {
     "data": {
      "text/html": [
       "<div>\n",
       "<style scoped>\n",
       "    .dataframe tbody tr th:only-of-type {\n",
       "        vertical-align: middle;\n",
       "    }\n",
       "\n",
       "    .dataframe tbody tr th {\n",
       "        vertical-align: top;\n",
       "    }\n",
       "\n",
       "    .dataframe thead th {\n",
       "        text-align: right;\n",
       "    }\n",
       "</style>\n",
       "<table border=\"1\" class=\"dataframe\">\n",
       "  <thead>\n",
       "    <tr style=\"text-align: right;\">\n",
       "      <th></th>\n",
       "      <th>Model</th>\n",
       "      <th>R2 Score(train)</th>\n",
       "      <th>R2 Score(Val)</th>\n",
       "      <th>MAE</th>\n",
       "      <th>RMSE</th>\n",
       "      <th>Description</th>\n",
       "    </tr>\n",
       "  </thead>\n",
       "  <tbody>\n",
       "    <tr>\n",
       "      <th>0</th>\n",
       "      <td>Mode 1</td>\n",
       "      <td>0.000000</td>\n",
       "      <td>0.000000</td>\n",
       "      <td>0.000000</td>\n",
       "      <td>0.000000</td>\n",
       "      <td>Baseline</td>\n",
       "    </tr>\n",
       "    <tr>\n",
       "      <th>1</th>\n",
       "      <td>Model 2</td>\n",
       "      <td>0.886713</td>\n",
       "      <td>0.852980</td>\n",
       "      <td>21157.810887</td>\n",
       "      <td>31094.158241</td>\n",
       "      <td>Poly</td>\n",
       "    </tr>\n",
       "    <tr>\n",
       "      <th>2</th>\n",
       "      <td>Model 3</td>\n",
       "      <td>0.777809</td>\n",
       "      <td>0.807667</td>\n",
       "      <td>25021.056681</td>\n",
       "      <td>35564.524098</td>\n",
       "      <td>Dropped Full Bath and Half Bath</td>\n",
       "    </tr>\n",
       "    <tr>\n",
       "      <th>3</th>\n",
       "      <td>Model 4</td>\n",
       "      <td>0.780299</td>\n",
       "      <td>0.811278</td>\n",
       "      <td>24684.392809</td>\n",
       "      <td>35229.123817</td>\n",
       "      <td>StandardScaled</td>\n",
       "    </tr>\n",
       "    <tr>\n",
       "      <th>4</th>\n",
       "      <td>Model 5</td>\n",
       "      <td>0.885289</td>\n",
       "      <td>0.871826</td>\n",
       "      <td>19836.248501</td>\n",
       "      <td>28053.375859</td>\n",
       "      <td>Poly and SC</td>\n",
       "    </tr>\n",
       "  </tbody>\n",
       "</table>\n",
       "</div>"
      ],
      "text/plain": [
       "     Model  R2 Score(train)  R2 Score(Val)           MAE          RMSE  \\\n",
       "0   Mode 1         0.000000       0.000000      0.000000      0.000000   \n",
       "1  Model 2         0.886713       0.852980  21157.810887  31094.158241   \n",
       "2  Model 3         0.777809       0.807667  25021.056681  35564.524098   \n",
       "3  Model 4         0.780299       0.811278  24684.392809  35229.123817   \n",
       "4  Model 5         0.885289       0.871826  19836.248501  28053.375859   \n",
       "\n",
       "                       Description  \n",
       "0                         Baseline  \n",
       "1                             Poly  \n",
       "2  Dropped Full Bath and Half Bath  \n",
       "3                   StandardScaled  \n",
       "4                      Poly and SC  "
      ]
     },
     "execution_count": 466,
     "metadata": {},
     "output_type": "execute_result"
    }
   ],
   "source": [
    "modelmetrics.head()"
   ]
  },
  {
   "cell_type": "code",
   "execution_count": 469,
   "id": "3e64cdae",
   "metadata": {},
   "outputs": [],
   "source": [
    "modelmetrics.to_csv('../datasets/Metrics_for_Models.csv', index=False)"
   ]
  }
 ],
 "metadata": {
  "kernelspec": {
   "display_name": "Python 3 (ipykernel)",
   "language": "python",
   "name": "python3"
  },
  "language_info": {
   "codemirror_mode": {
    "name": "ipython",
    "version": 3
   },
   "file_extension": ".py",
   "mimetype": "text/x-python",
   "name": "python",
   "nbconvert_exporter": "python",
   "pygments_lexer": "ipython3",
   "version": "3.11.4"
  }
 },
 "nbformat": 4,
 "nbformat_minor": 5
}
